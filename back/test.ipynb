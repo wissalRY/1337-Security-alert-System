{
 "cells": [
  {
   "cell_type": "code",
   "execution_count": 2,
   "metadata": {},
   "outputs": [
    {
     "name": "stderr",
     "output_type": "stream",
     "text": [
      "Downloading: \"https://github.com/ultralytics/yolov5/zipball/master\" to C:\\Users\\TAJ/.cache\\torch\\hub\\master.zip\n",
      "YOLOv5  2024-7-26 Python-3.11.9 torch-2.3.1+cu121 CUDA:0 (NVIDIA GeForce RTX 3060 Laptop GPU, 6144MiB)\n",
      "\n",
      "Fusing layers... \n",
      "Model summary: 157 layers, 7015519 parameters, 0 gradients, 15.8 GFLOPs\n",
      "Adding AutoShape... \n"
     ]
    }
   ],
   "source": [
    "import torch\n",
    "import pathlib\n",
    "import cv2\n",
    "import numpy as np\n",
    "temp = pathlib.PosixPath\n",
    "pathlib.PosixPath = pathlib.WindowsPath\n",
    "from torchvision import transforms\n",
    "from model import Model\n",
    "import json"
   ]
  },
  {
   "cell_type": "code",
   "execution_count": 29,
   "metadata": {},
   "outputs": [],
   "source": [
    "cap = cv2.VideoCapture(1)  \n"
   ]
  },
  {
   "cell_type": "code",
   "execution_count": 30,
   "metadata": {},
   "outputs": [
    {
     "data": {
      "text/plain": [
       "(True,\n",
       " array([[[83, 41, 32],\n",
       "         [85, 42, 33],\n",
       "         [83, 42, 35],\n",
       "         ...,\n",
       "         [81, 41, 32],\n",
       "         [83, 41, 32],\n",
       "         [83, 41, 32]],\n",
       " \n",
       "        [[85, 42, 33],\n",
       "         [83, 41, 32],\n",
       "         [83, 42, 35],\n",
       "         ...,\n",
       "         [81, 41, 32],\n",
       "         [83, 41, 32],\n",
       "         [83, 41, 32]],\n",
       " \n",
       "        [[81, 41, 32],\n",
       "         [81, 41, 32],\n",
       "         [83, 41, 32],\n",
       "         ...,\n",
       "         [83, 41, 32],\n",
       "         [83, 41, 32],\n",
       "         [83, 41, 32]],\n",
       " \n",
       "        ...,\n",
       " \n",
       "        [[48, 26, 25],\n",
       "         [48, 26, 25],\n",
       "         [48, 26, 25],\n",
       "         ...,\n",
       "         [48, 26, 25],\n",
       "         [48, 26, 25],\n",
       "         [48, 26, 25]],\n",
       " \n",
       "        [[48, 26, 25],\n",
       "         [48, 26, 25],\n",
       "         [48, 26, 25],\n",
       "         ...,\n",
       "         [48, 26, 25],\n",
       "         [48, 26, 25],\n",
       "         [48, 26, 25]],\n",
       " \n",
       "        [[48, 26, 25],\n",
       "         [48, 26, 25],\n",
       "         [48, 26, 25],\n",
       "         ...,\n",
       "         [48, 26, 25],\n",
       "         [48, 26, 25],\n",
       "         [48, 26, 25]]], dtype=uint8))"
      ]
     },
     "execution_count": 30,
     "metadata": {},
     "output_type": "execute_result"
    }
   ],
   "source": [
    "cap.read()"
   ]
  },
  {
   "cell_type": "code",
   "execution_count": 22,
   "metadata": {},
   "outputs": [
    {
     "data": {
      "text/plain": [
       "False"
      ]
     },
     "execution_count": 22,
     "metadata": {},
     "output_type": "execute_result"
    }
   ],
   "source": [
    "def check_is_available():\n",
    "    \n",
    "    "
   ]
  },
  {
   "cell_type": "code",
   "execution_count": 4,
   "metadata": {},
   "outputs": [],
   "source": [
    "m = Model()"
   ]
  },
  {
   "cell_type": "code",
   "execution_count": 5,
   "metadata": {},
   "outputs": [],
   "source": [
    "_,face,emb= m.getEmbeddings(frame)"
   ]
  },
  {
   "cell_type": "code",
   "execution_count": 6,
   "metadata": {},
   "outputs": [
    {
     "data": {
      "text/plain": [
       "tensor([[-10.37061, -10.40385,  10.13019,  10.08603,  10.16367,  10.15154,  10.12592, -10.43279, -10.33811, -10.35330, -10.49626, -10.45901,  10.15291,  10.19752,  10.24640,  10.16508,  10.16587, -10.40739,  10.17942, -10.40307, -10.37329,  10.03772,  10.06185, -10.44156, -10.41739, -10.41960, -10.46736,  10.12886,\n",
       "         -10.45519, -10.52744,  10.23693,  10.15530, -10.45408,  10.16012,  10.20463, -10.44325,  10.20262,  10.08062, -10.43927, -10.39827,  10.19787,  10.13709, -10.52505, -10.37781,  10.08944,  10.16388,  10.07752, -10.37545, -10.46790, -10.41244, -10.39346,  10.12056, -10.47803, -10.43365, -10.51418,  10.10703,\n",
       "         -10.44152,  10.04812,  10.12866,  10.10076, -10.37159,  10.18156,  10.14144,  10.14682, -10.34861, -10.42240, -10.44138, -10.34957,  10.16764, -10.40302, -10.38500, -10.50549,  10.09664, -10.39514, -10.50644,  10.19787, -10.42305,  10.10298, -10.31380, -10.36989, -10.41532, -10.57178, -10.42400, -10.42414,\n",
       "         -10.46845,  10.13309,  10.15293,  10.13730, -10.45083,  10.07738, -10.45898,  10.07150,  10.17950, -10.40882,  10.11403,  10.05276, -10.42526,  10.09201, -10.43564,  10.05087, -10.33953,  10.21274, -10.47711,  10.21693,  10.09525,  10.14249, -10.50185,  10.07101,  10.12747,  10.17167,  10.13778, -10.49503,\n",
       "          10.17227,  10.05235,  10.12224,  10.12564,  10.07812, -10.44576,  10.17751,  10.18098, -10.43842, -10.42859, -10.33626,  10.07456, -10.48052,  10.06831,  10.10712]], device='cuda:0', grad_fn=<UnsqueezeBackward0>)"
      ]
     },
     "execution_count": 6,
     "metadata": {},
     "output_type": "execute_result"
    }
   ],
   "source": [
    "emb"
   ]
  },
  {
   "cell_type": "code",
   "execution_count": 7,
   "metadata": {},
   "outputs": [
    {
     "data": {
      "text/plain": [
       "2"
      ]
     },
     "execution_count": 7,
     "metadata": {},
     "output_type": "execute_result"
    }
   ],
   "source": [
    "db.addgard(\"bk\",\"ta@gmail.com\",\"t\",\"Taj\",face,emb)"
   ]
  },
  {
   "cell_type": "code",
   "execution_count": 8,
   "metadata": {},
   "outputs": [
    {
     "data": {
      "text/plain": [
       "tensor([[[[0.52941, 0.52941, 0.52941,  ..., 0.17255, 0.16471, 0.16471],\n",
       "          [0.54118, 0.54510, 0.52941,  ..., 0.18039, 0.17255, 0.16471],\n",
       "          [0.54510, 0.54902, 0.52941,  ..., 0.19216, 0.17647, 0.16863],\n",
       "          ...,\n",
       "          [0.63922, 0.61961, 0.61176,  ..., 0.78431, 0.78431, 0.78431],\n",
       "          [0.60000, 0.58431, 0.61569,  ..., 0.78431, 0.78431, 0.78039],\n",
       "          [0.60000, 0.59608, 0.63137,  ..., 0.77647, 0.78039, 0.77647]],\n",
       "\n",
       "         [[0.44314, 0.44706, 0.44314,  ..., 0.17255, 0.16471, 0.16471],\n",
       "          [0.45490, 0.46275, 0.45098,  ..., 0.18431, 0.17255, 0.16863],\n",
       "          [0.45882, 0.46275, 0.45098,  ..., 0.19608, 0.18039, 0.17255],\n",
       "          ...,\n",
       "          [0.59216, 0.58039, 0.57647,  ..., 0.76078, 0.76078, 0.76078],\n",
       "          [0.52549, 0.51765, 0.55686,  ..., 0.76078, 0.76078, 0.75686],\n",
       "          [0.50980, 0.51373, 0.56078,  ..., 0.75686, 0.75686, 0.75686]],\n",
       "\n",
       "         [[0.32549, 0.33725, 0.34510,  ..., 0.14510, 0.13333, 0.12941],\n",
       "          [0.34118, 0.35294, 0.34902,  ..., 0.14902, 0.14118, 0.13333],\n",
       "          [0.34510, 0.35294, 0.34902,  ..., 0.16471, 0.14510, 0.13725],\n",
       "          ...,\n",
       "          [0.48627, 0.47451, 0.47059,  ..., 0.64706, 0.64706, 0.64706],\n",
       "          [0.42353, 0.41569, 0.45490,  ..., 0.64706, 0.64706, 0.64314],\n",
       "          [0.41176, 0.41569, 0.46667,  ..., 0.64314, 0.64314, 0.63922]]]], device='cuda:0')"
      ]
     },
     "execution_count": 8,
     "metadata": {},
     "output_type": "execute_result"
    }
   ],
   "source": [
    "face"
   ]
  },
  {
   "cell_type": "code",
   "execution_count": 9,
   "metadata": {},
   "outputs": [
    {
     "ename": "NameError",
     "evalue": "name 'data' is not defined",
     "output_type": "error",
     "traceback": [
      "\u001b[1;31m---------------------------------------------------------------------------\u001b[0m",
      "\u001b[1;31mNameError\u001b[0m                                 Traceback (most recent call last)",
      "Cell \u001b[1;32mIn[9], line 1\u001b[0m\n\u001b[1;32m----> 1\u001b[0m \u001b[38;5;28mnext\u001b[39m(DB()\u001b[38;5;241m.\u001b[39mgetallunkown(\u001b[43mdata\u001b[49m))\n",
      "\u001b[1;31mNameError\u001b[0m: name 'data' is not defined"
     ]
    }
   ],
   "source": [
    "next(DB().getallunkown(data))"
   ]
  },
  {
   "cell_type": "code",
   "execution_count": null,
   "metadata": {},
   "outputs": [],
   "source": [
    "m = Model()"
   ]
  },
  {
   "cell_type": "code",
   "execution_count": null,
   "metadata": {},
   "outputs": [],
   "source": []
  },
  {
   "cell_type": "code",
   "execution_count": null,
   "metadata": {},
   "outputs": [],
   "source": [
    "_,face,_=m.getEmbeddings(frame)"
   ]
  },
  {
   "cell_type": "code",
   "execution_count": null,
   "metadata": {},
   "outputs": [
    {
     "data": {
      "text/plain": [
       "torch.Size([3, 112, 112])"
      ]
     },
     "execution_count": 15,
     "metadata": {},
     "output_type": "execute_result"
    }
   ],
   "source": [
    "face.squeeze().shape"
   ]
  },
  {
   "cell_type": "code",
   "execution_count": null,
   "metadata": {},
   "outputs": [],
   "source": [
    "k =face.squeeze().permute(1,2,0).cpu().numpy()"
   ]
  },
  {
   "cell_type": "code",
   "execution_count": null,
   "metadata": {},
   "outputs": [],
   "source": [
    "import matplotlib.pyplot as plt"
   ]
  },
  {
   "cell_type": "code",
   "execution_count": null,
   "metadata": {},
   "outputs": [
    {
     "data": {
      "text/plain": [
       "array([[[         65,          67,          68],\n",
       "        [         67,          68,          70],\n",
       "        [         73,          75,          79],\n",
       "        ...,\n",
       "        [         79,          85,          84],\n",
       "        [         79,          86,          84],\n",
       "        [         83,          89,          87]],\n",
       "\n",
       "       [[         65,          66,          69],\n",
       "        [         71,          72,          75],\n",
       "        [         71,          72,          77],\n",
       "        ...,\n",
       "        [         69,          75,          75],\n",
       "        [         71,          76,          76],\n",
       "        [         77,          83,          82]],\n",
       "\n",
       "       [[         67,          68,          72],\n",
       "        [         68,          69,          73],\n",
       "        [         67,          68,          74],\n",
       "        ...,\n",
       "        [         74,          78,          80],\n",
       "        [         69,          73,          74],\n",
       "        [         69,          73,          73]],\n",
       "\n",
       "       ...,\n",
       "\n",
       "       [[        106,         112,         136],\n",
       "        [        109,         118,         146],\n",
       "        [        107,         121,         150],\n",
       "        ...,\n",
       "        [        255,         252,         249],\n",
       "        [        255,         251,         248],\n",
       "        [        255,         252,         249]],\n",
       "\n",
       "       [[        108,         115,         140],\n",
       "        [        110,         120,         149],\n",
       "        [        107,         121,         151],\n",
       "        ...,\n",
       "        [        254,         251,         247],\n",
       "        [        255,         252,         248],\n",
       "        [        255,         252,         248]],\n",
       "\n",
       "       [[        109,         118,         145],\n",
       "        [        110,         122,         151],\n",
       "        [        107,         123,         152],\n",
       "        ...,\n",
       "        [        252,         249,         245],\n",
       "        [        254,         251,         247],\n",
       "        [        255,         251,         247]]], dtype=float32)"
      ]
     },
     "execution_count": 18,
     "metadata": {},
     "output_type": "execute_result"
    }
   ],
   "source": [
    "(k*255)"
   ]
  },
  {
   "cell_type": "code",
   "execution_count": null,
   "metadata": {},
   "outputs": [
    {
     "data": {
      "image/png": "[encoded data removed]",
      "text/plain": [
       "<Figure size 640x480 with 1 Axes>"
      ]
     },
     "metadata": {},
     "output_type": "display_data"
    }
   ],
   "source": [
    "%matplotlib inline\n",
    "plt.imshow(cv2.cvtColor((k*255).astype(np.uint8), cv2.COLOR_BGR2RGB))\n",
    "plt.show()"
   ]
  },
  {
   "cell_type": "code",
   "execution_count": null,
   "metadata": {},
   "outputs": [],
   "source": [
    "cv2."
   ]
  },
  {
   "cell_type": "code",
   "execution_count": null,
   "metadata": {},
   "outputs": [],
   "source": [
    "transormImageRecogniser = transforms.Compose([\n",
    "transforms.ToPILImage(),\n",
    "transforms.Resize((112,112)),\n",
    "                    transforms.ToTensor(),  \n",
    "                ])\n"
   ]
  },
  {
   "cell_type": "code",
   "execution_count": null,
   "metadata": {},
   "outputs": [],
   "source": [
    "\n",
    "cap = cv2.VideoCapture(0)  # Use 0 for webcam or provide the video file path\n"
   ]
  },
  {
   "cell_type": "code",
   "execution_count": null,
   "metadata": {},
   "outputs": [],
   "source": [
    "ret, frame = cap.read()\n"
   ]
  },
  {
   "cell_type": "code",
   "execution_count": null,
   "metadata": {},
   "outputs": [],
   "source": [
    "cap.release()"
   ]
  },
  {
   "cell_type": "code",
   "execution_count": null,
   "metadata": {},
   "outputs": [],
   "source": [
    "pic,face,emb= m.getEmbeddings(frame)"
   ]
  },
  {
   "cell_type": "code",
   "execution_count": null,
   "metadata": {},
   "outputs": [
    {
     "data": {
      "text/plain": [
       "tensor([[-13.13262, -13.15802,  12.80667,  12.81064,  12.87751,  12.81064,  12.81394, -13.22293, -13.10888, -13.09993, -13.26655, -13.21465,  12.83298,  12.84804,  12.93214,  12.85793,  12.83469, -13.13308,  12.80203, -13.16669, -13.17909,  12.72275,  12.71570, -13.19699, -13.17287, -13.16770, -13.25255,  12.83052,\n",
       "         -13.22728, -13.33321,  12.93451,  12.86883, -13.21905,  12.85271,  12.90594, -13.25004,  12.95528,  12.73248, -13.20057, -13.13246,  12.95092,  12.82119, -13.28447, -13.16404,  12.74200,  12.85048,  12.76033, -13.10842, -13.18482, -13.21090, -13.14256,  12.81492, -13.19016, -13.18099, -13.23158,  12.79831,\n",
       "         -13.25060,  12.72073,  12.75071,  12.76200, -13.19195,  12.81013,  12.81018,  12.81627, -13.11378, -13.21123, -13.18920, -13.13247,  12.87358, -13.19081, -13.14220, -13.21791,  12.77878, -13.10833, -13.27160,  12.85680, -13.16170,  12.79556, -13.11898, -13.10989, -13.15478, -13.40210, -13.24132, -13.21563,\n",
       "         -13.29470,  12.77644,  12.84912,  12.81036, -13.14875,  12.73942, -13.18651,  12.74574,  12.89470, -13.16481,  12.78375,  12.76826, -13.18278,  12.74682, -13.17587,  12.73931, -13.08131,  12.90858, -13.23050,  12.86721,  12.75311,  12.83034, -13.24972,  12.72552,  12.77216,  12.88861,  12.77590, -13.22517,\n",
       "          12.83781,  12.71269,  12.82938,  12.81745,  12.73955, -13.18053,  12.80884,  12.86497, -13.17920, -13.20137, -13.09641,  12.71887, -13.25035,  12.70699,  12.81281]], device='cuda:0', grad_fn=<UnsqueezeBackward0>)"
      ]
     },
     "execution_count": 10,
     "metadata": {},
     "output_type": "execute_result"
    }
   ],
   "source": [
    "emb"
   ]
  },
  {
   "cell_type": "code",
   "execution_count": null,
   "metadata": {},
   "outputs": [],
   "source": [
    "tensor =transormImageRecogniser(img).to(m.device).unsqueeze(0)"
   ]
  },
  {
   "cell_type": "code",
   "execution_count": null,
   "metadata": {},
   "outputs": [],
   "source": [
    "txtEmb =json.dumps(m.faceRecogniser(tensor).squeeze().tolist())"
   ]
  },
  {
   "cell_type": "code",
   "execution_count": null,
   "metadata": {},
   "outputs": [],
   "source": [
    "db = DB()"
   ]
  },
  {
   "cell_type": "code",
   "execution_count": null,
   "metadata": {},
   "outputs": [
    {
     "ename": "IntegrityError",
     "evalue": "1062 (23000): Duplicate entry '' for key 'users.CIN'",
     "output_type": "error",
     "traceback": [
      "\u001b[1;31m---------------------------------------------------------------------------\u001b[0m",
      "\u001b[1;31mIntegrityError\u001b[0m                            Traceback (most recent call last)",
      "Cell \u001b[1;32mIn[17], line 1\u001b[0m\n\u001b[1;32m----> 1\u001b[0m \u001b[43mDB\u001b[49m\u001b[43m(\u001b[49m\u001b[43m)\u001b[49m\u001b[38;5;241;43m.\u001b[39;49m\u001b[43madduser\u001b[49m\u001b[43m(\u001b[49m\u001b[38;5;124;43m\"\u001b[39;49m\u001b[38;5;124;43mAkshay Kumar 2\u001b[39;49m\u001b[38;5;124;43m\"\u001b[39;49m\u001b[43m,\u001b[49m\u001b[43mimg\u001b[49m\u001b[43m,\u001b[49m\u001b[43mtxtEmb\u001b[49m\u001b[43m)\u001b[49m\n",
      "File \u001b[1;32mc:\\Users\\TAJ\\Desktop\\projectcam\\back\\db.py:58\u001b[0m, in \u001b[0;36mDB.adduser\u001b[1;34m(self, name, frame, embtext)\u001b[0m\n\u001b[0;32m     55\u001b[0m encode_param \u001b[38;5;241m=\u001b[39m [\u001b[38;5;28mint\u001b[39m(cv2\u001b[38;5;241m.\u001b[39mIMWRITE_JPEG_QUALITY), \u001b[38;5;241m90\u001b[39m]\n\u001b[0;32m     56\u001b[0m _, frame_encoded \u001b[38;5;241m=\u001b[39m cv2\u001b[38;5;241m.\u001b[39mimencode(\u001b[38;5;124m'\u001b[39m\u001b[38;5;124m.jpg\u001b[39m\u001b[38;5;124m'\u001b[39m, frame, encode_param)\n\u001b[1;32m---> 58\u001b[0m \u001b[38;5;28;43mself\u001b[39;49m\u001b[38;5;241;43m.\u001b[39;49m\u001b[43mcur\u001b[49m\u001b[38;5;241;43m.\u001b[39;49m\u001b[43mexecute\u001b[49m\u001b[43m(\u001b[49m\u001b[38;5;124;43m\"\u001b[39;49m\u001b[38;5;124;43minsert into users(name,picture,Embedding) VALUES(\u001b[39;49m\u001b[38;5;132;43;01m%s\u001b[39;49;00m\u001b[38;5;124;43m,\u001b[39;49m\u001b[38;5;132;43;01m%s\u001b[39;49;00m\u001b[38;5;124;43m,\u001b[39;49m\u001b[38;5;132;43;01m%s\u001b[39;49;00m\u001b[38;5;124;43m)\u001b[39;49m\u001b[38;5;124;43m\"\u001b[39;49m\u001b[43m,\u001b[49m\u001b[43m(\u001b[49m\u001b[43mname\u001b[49m\u001b[43m,\u001b[49m\u001b[43mframe_encoded\u001b[49m\u001b[38;5;241;43m.\u001b[39;49m\u001b[43mtobytes\u001b[49m\u001b[43m(\u001b[49m\u001b[43m)\u001b[49m\u001b[43m,\u001b[49m\u001b[43membtext\u001b[49m\u001b[43m)\u001b[49m\u001b[43m)\u001b[49m\n\u001b[0;32m     59\u001b[0m \u001b[38;5;28mself\u001b[39m\u001b[38;5;241m.\u001b[39mcommit()\n",
      "File \u001b[1;32mc:\\Users\\TAJ\\anaconda3\\envs\\PytorchGPU\\Lib\\site-packages\\mysql\\connector\\cursor.py:551\u001b[0m, in \u001b[0;36mMySQLCursor.execute\u001b[1;34m(self, operation, params, multi)\u001b[0m\n\u001b[0;32m    549\u001b[0m \u001b[38;5;28;01melse\u001b[39;00m:\n\u001b[0;32m    550\u001b[0m     \u001b[38;5;28;01mtry\u001b[39;00m:\n\u001b[1;32m--> 551\u001b[0m         \u001b[38;5;28mself\u001b[39m\u001b[38;5;241m.\u001b[39m_handle_result(\u001b[38;5;28;43mself\u001b[39;49m\u001b[38;5;241;43m.\u001b[39;49m\u001b[43m_connection\u001b[49m\u001b[38;5;241;43m.\u001b[39;49m\u001b[43mcmd_query\u001b[49m\u001b[43m(\u001b[49m\u001b[43mstmt\u001b[49m\u001b[43m)\u001b[49m)\n\u001b[0;32m    552\u001b[0m     \u001b[38;5;28;01mexcept\u001b[39;00m errors\u001b[38;5;241m.\u001b[39mInterfaceError:\n\u001b[0;32m    553\u001b[0m         \u001b[38;5;28;01mif\u001b[39;00m \u001b[38;5;28mself\u001b[39m\u001b[38;5;241m.\u001b[39m_connection\u001b[38;5;241m.\u001b[39m_have_next_result:  \u001b[38;5;66;03m# pylint: disable=W0212\u001b[39;00m\n",
      "File \u001b[1;32mc:\\Users\\TAJ\\anaconda3\\envs\\PytorchGPU\\Lib\\site-packages\\mysql\\connector\\connection.py:490\u001b[0m, in \u001b[0;36mMySQLConnection.cmd_query\u001b[1;34m(self, query, raw, buffered, raw_as_string)\u001b[0m\n\u001b[0;32m    488\u001b[0m \u001b[38;5;28;01mif\u001b[39;00m \u001b[38;5;129;01mnot\u001b[39;00m \u001b[38;5;28misinstance\u001b[39m(query, \u001b[38;5;28mbytes\u001b[39m):\n\u001b[0;32m    489\u001b[0m     query \u001b[38;5;241m=\u001b[39m query\u001b[38;5;241m.\u001b[39mencode(\u001b[38;5;124m'\u001b[39m\u001b[38;5;124mutf-8\u001b[39m\u001b[38;5;124m'\u001b[39m)\n\u001b[1;32m--> 490\u001b[0m result \u001b[38;5;241m=\u001b[39m \u001b[38;5;28;43mself\u001b[39;49m\u001b[38;5;241;43m.\u001b[39;49m\u001b[43m_handle_result\u001b[49m\u001b[43m(\u001b[49m\u001b[38;5;28;43mself\u001b[39;49m\u001b[38;5;241;43m.\u001b[39;49m\u001b[43m_send_cmd\u001b[49m\u001b[43m(\u001b[49m\u001b[43mServerCmd\u001b[49m\u001b[38;5;241;43m.\u001b[39;49m\u001b[43mQUERY\u001b[49m\u001b[43m,\u001b[49m\u001b[43m \u001b[49m\u001b[43mquery\u001b[49m\u001b[43m)\u001b[49m\u001b[43m)\u001b[49m\n\u001b[0;32m    492\u001b[0m \u001b[38;5;28;01mif\u001b[39;00m \u001b[38;5;28mself\u001b[39m\u001b[38;5;241m.\u001b[39m_have_next_result:\n\u001b[0;32m    493\u001b[0m     \u001b[38;5;28;01mraise\u001b[39;00m errors\u001b[38;5;241m.\u001b[39mInterfaceError(\n\u001b[0;32m    494\u001b[0m         \u001b[38;5;124m'\u001b[39m\u001b[38;5;124mUse cmd_query_iter for statements with multiple queries.\u001b[39m\u001b[38;5;124m'\u001b[39m)\n",
      "File \u001b[1;32mc:\\Users\\TAJ\\anaconda3\\envs\\PytorchGPU\\Lib\\site-packages\\mysql\\connector\\connection.py:395\u001b[0m, in \u001b[0;36mMySQLConnection._handle_result\u001b[1;34m(self, packet)\u001b[0m\n\u001b[0;32m    393\u001b[0m     \u001b[38;5;28;01mreturn\u001b[39;00m \u001b[38;5;28mself\u001b[39m\u001b[38;5;241m.\u001b[39m_handle_eof(packet)\n\u001b[0;32m    394\u001b[0m \u001b[38;5;28;01melif\u001b[39;00m packet[\u001b[38;5;241m4\u001b[39m] \u001b[38;5;241m==\u001b[39m \u001b[38;5;241m255\u001b[39m:\n\u001b[1;32m--> 395\u001b[0m     \u001b[38;5;28;01mraise\u001b[39;00m errors\u001b[38;5;241m.\u001b[39mget_exception(packet)\n\u001b[0;32m    397\u001b[0m \u001b[38;5;66;03m# We have a text result set\u001b[39;00m\n\u001b[0;32m    398\u001b[0m column_count \u001b[38;5;241m=\u001b[39m \u001b[38;5;28mself\u001b[39m\u001b[38;5;241m.\u001b[39m_protocol\u001b[38;5;241m.\u001b[39mparse_column_count(packet)\n",
      "\u001b[1;31mIntegrityError\u001b[0m: 1062 (23000): Duplicate entry '' for key 'users.CIN'"
     ]
    }
   ],
   "source": [
    "db.adduser(\"Akshay Kumar 2\",img,txtEmb)"
   ]
  },
  {
   "cell_type": "code",
   "execution_count": null,
   "metadata": {},
   "outputs": [],
   "source": [
    "from db import DB\n",
    "import numpy as np\n",
    "import torch\n",
    "db = DB()"
   ]
  },
  {
   "cell_type": "code",
   "execution_count": null,
   "metadata": {},
   "outputs": [],
   "source": [
    "idcams = [0]"
   ]
  },
  {
   "cell_type": "code",
   "execution_count": null,
   "metadata": {},
   "outputs": [],
   "source": [
    "oldcams =db.getCams()\n",
    "mask = ~np.isin(oldcams,idcams)\n",
    "oldcams = oldcams[mask]"
   ]
  },
  {
   "cell_type": "code",
   "execution_count": null,
   "metadata": {},
   "outputs": [
    {
     "data": {
      "text/plain": [
       "(array([], dtype=float64), [0])"
      ]
     },
     "execution_count": 8,
     "metadata": {},
     "output_type": "execute_result"
    }
   ],
   "source": [
    "oldcams,idcams"
   ]
  },
  {
   "cell_type": "code",
   "execution_count": null,
   "metadata": {},
   "outputs": [],
   "source": [
    "f = np.random.random((5))"
   ]
  },
  {
   "cell_type": "code",
   "execution_count": null,
   "metadata": {},
   "outputs": [],
   "source": [
    "c = f < 0.5"
   ]
  },
  {
   "cell_type": "code",
   "execution_count": null,
   "metadata": {},
   "outputs": [
    {
     "data": {
      "text/plain": [
       "array([None, 0.2393451387003207, 0.4899087257527799, None, None],\n",
       "      dtype=object)"
      ]
     },
     "execution_count": 25,
     "metadata": {},
     "output_type": "execute_result"
    }
   ],
   "source": [
    "np.where(torch.tensor(c),f,None)"
   ]
  },
  {
   "cell_type": "code",
   "execution_count": null,
   "metadata": {},
   "outputs": [
    {
     "ename": "TypeError",
     "evalue": "'module' object is not callable",
     "output_type": "error",
     "traceback": [
      "\u001b[1;31m---------------------------------------------------------------------------\u001b[0m",
      "\u001b[1;31mTypeError\u001b[0m                                 Traceback (most recent call last)",
      "Cell \u001b[1;32mIn[27], line 1\u001b[0m\n\u001b[1;32m----> 1\u001b[0m \u001b[43mtorch\u001b[49m\u001b[38;5;241;43m.\u001b[39;49m\u001b[43mrandom\u001b[49m\u001b[43m(\u001b[49m\u001b[43m(\u001b[49m\u001b[38;5;241;43m1\u001b[39;49m\u001b[43m,\u001b[49m\u001b[38;5;241;43m2\u001b[39;49m\u001b[43m)\u001b[49m\u001b[43m)\u001b[49m\n",
      "\u001b[1;31mTypeError\u001b[0m: 'module' object is not callable"
     ]
    }
   ],
   "source": [
    "black_image_tensor = torch.zeros((channels, height, width))\n"
   ]
  },
  {
   "cell_type": "code",
   "execution_count": null,
   "metadata": {},
   "outputs": [],
   "source": []
  }
 ],
 "metadata": {
  "kernelspec": {
   "display_name": "base",
   "language": "python",
   "name": "python3"
  },
  "language_info": {
   "codemirror_mode": {
    "name": "ipython",
    "version": 3
   },
   "file_extension": ".py",
   "mimetype": "text/x-python",
   "name": "python",
   "nbconvert_exporter": "python",
   "pygments_lexer": "ipython3",
   "version": "3.11.9"
  }
 },
 "nbformat": 4,
 "nbformat_minor": 2
}
